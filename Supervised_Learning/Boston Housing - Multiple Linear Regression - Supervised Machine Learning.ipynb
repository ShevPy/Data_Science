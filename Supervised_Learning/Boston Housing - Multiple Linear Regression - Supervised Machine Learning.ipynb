{
 "cells": [
  {
   "cell_type": "markdown",
   "metadata": {},
   "source": [
    "## Project Overview\n",
    " \n",
    "*Project goal*: predict the median value of owner-occupied homes based on several features such as the per capita crime rate, proportion of non-retail business, average number of rooms per dwelling and so on. \n",
    "\n",
    "This particular dataset is a copy of UCI ML housing dataset. https://archive.ics.uci.edu/ml/machine-learning-databases/housing/\n",
    "\n",
    "*Tools and Modules used*:\n",
    "- Python\n",
    "- Pandas\n",
    "- Numpy\n",
    "- Matplotlib\n",
    "- Sklearn\n",
    "- Jupyter Notebook\n",
    " \n",
    "*Data (source)*: Scikit-learn library\n",
    "            \n",
    "*Keywords*: linear regression, ridge regression, lasso regression, feature selection. "
   ]
  },
  {
   "cell_type": "markdown",
   "metadata": {},
   "source": [
    "## Exploratory Data Analysis"
   ]
  },
  {
   "cell_type": "code",
   "execution_count": 1,
   "metadata": {},
   "outputs": [],
   "source": [
    "# Import necessary modules and load the data\n",
    "from sklearn.datasets import load_boston\n",
    "import numpy as np\n",
    "import matplotlib.pyplot as plt\n",
    "import matplotlib\n",
    "%matplotlib inline\n",
    "\n",
    "# Load the data\n",
    "boston = load_boston()"
   ]
  },
  {
   "cell_type": "code",
   "execution_count": 2,
   "metadata": {},
   "outputs": [
    {
     "name": "stdout",
     "output_type": "stream",
     "text": [
      "Data set properties: dict_keys(['data', 'target', 'feature_names', 'DESCR', 'filename'])\n"
     ]
    }
   ],
   "source": [
    "# Print data set keys\n",
    "print('Data set properties: {}'.format(boston.keys()))"
   ]
  },
  {
   "cell_type": "code",
   "execution_count": 3,
   "metadata": {},
   "outputs": [
    {
     "name": "stdout",
     "output_type": "stream",
     "text": [
      "Feature names:['CRIM' 'ZN' 'INDUS' 'CHAS' 'NOX' 'RM' 'AGE' 'DIS' 'RAD' 'TAX' 'PTRATIO'\n",
      " 'B' 'LSTAT']\n"
     ]
    }
   ],
   "source": [
    "print('Feature names:{}'.format(boston.feature_names))"
   ]
  },
  {
   "cell_type": "code",
   "execution_count": 4,
   "metadata": {},
   "outputs": [
    {
     "name": "stdout",
     "output_type": "stream",
     "text": [
      "Shape of feature array: (506, 13)\n",
      "Shape of target array: (506,)\n"
     ]
    }
   ],
   "source": [
    "print('Shape of feature array: {}'.format(boston.data.shape))\n",
    "print('Shape of target array: {}'.format(boston.target.shape))"
   ]
  },
  {
   "cell_type": "code",
   "execution_count": 5,
   "metadata": {},
   "outputs": [],
   "source": [
    "# Create feature and target arrays\n",
    "X, y = boston.data, boston.target"
   ]
  },
  {
   "cell_type": "code",
   "execution_count": 6,
   "metadata": {},
   "outputs": [
    {
     "name": "stdout",
     "output_type": "stream",
     "text": [
      "Shape of modified target array: (506, 1)\n"
     ]
    }
   ],
   "source": [
    "# Turn the target array into the desired shape\n",
    "y = y.reshape(-1,1)                \n",
    "print('Shape of modified target array: {}'.format(y.shape))"
   ]
  },
  {
   "cell_type": "markdown",
   "metadata": {},
   "source": [
    "##### Analysing the relationship between value of  house and certain features"
   ]
  },
  {
   "cell_type": "code",
   "execution_count": 7,
   "metadata": {},
   "outputs": [],
   "source": [
    "# Select individual features\n",
    "X_rooms = X[:, 5]\n",
    "X_age = X[:, 6]\n",
    "X_tax = X[:, 9]\n",
    "X_crime = X[:, 1]"
   ]
  },
  {
   "cell_type": "code",
   "execution_count": 8,
   "metadata": {},
   "outputs": [
    {
     "data": {
      "image/png": "[encoded data removed]",
      "text/plain": [
       "<Figure size 432x288 with 4 Axes>"
      ]
     },
     "metadata": {
      "needs_background": "light"
     },
     "output_type": "display_data"
    }
   ],
   "source": [
    "# Plot house values as a function of average number of rooms per dwelling (RM), proportion of owner-occupied units built prior to 1940(Age),\n",
    "# per capita crime rate by town (CRIM) and weighted distances to five Boston employment centres (DIS)\n",
    "\n",
    "plt.subplot(2, 2, 1)\n",
    "plt.scatter(X_rooms, y)\n",
    "plt.xlabel('RM')\n",
    "plt.ylabel('Value of house /1000($)')\n",
    "\n",
    "plt.subplot(2, 2, 2)\n",
    "plt.scatter(X_age, y)\n",
    "plt.xlabel('AGE')\n",
    "plt.ylabel('Value of house /1000($)')\n",
    "\n",
    "plt.subplot(2, 2, 3)\n",
    "plt.scatter(X_crime, y)\n",
    "plt.xlabel('CRIM')\n",
    "plt.ylabel('Value of house /1000($)')\n",
    "\n",
    "plt.subplot(2, 2, 4)\n",
    "plt.scatter(X[:, 7], y)\n",
    "plt.xlabel('DIS')\n",
    "plt.ylabel('Value of house /1000($)')\n",
    "\n",
    "plt.subplots_adjust(wspace=0.55, hspace=0.50)\n",
    "\n",
    "plt.show()"
   ]
  },
  {
   "cell_type": "markdown",
   "metadata": {},
   "source": [
    "## Model Building\n",
    "\n",
    "### Model 1 - Linear Regression (without regularization)"
   ]
  },
  {
   "cell_type": "code",
   "execution_count": 9,
   "metadata": {},
   "outputs": [],
   "source": [
    "# Import necessary modules\n",
    "from sklearn.model_selection import train_test_split\n",
    "from sklearn.linear_model import LinearRegression\n",
    "\n",
    "# Create training and testing sets\n",
    "X_train, X_test, y_train, y_test = train_test_split(X, y, test_size = 0.3, random_state = 42)\n",
    "\n",
    "# Instantiate the regressor: reg\n",
    "reg = LinearRegression()\n",
    "\n",
    "# Fit the regressor to the training set\n",
    "reg.fit(X_train, y_train)\n",
    "\n",
    "# Predict on the test set\n",
    "y_pred = reg.predict(X_test)"
   ]
  },
  {
   "cell_type": "markdown",
   "metadata": {},
   "source": [
    "##### Measuring the performance of the linear regresion model (without regularization)"
   ]
  },
  {
   "cell_type": "code",
   "execution_count": 10,
   "metadata": {},
   "outputs": [
    {
     "name": "stdout",
     "output_type": "stream",
     "text": [
      "R squared: 0.711226005748496\n"
     ]
    }
   ],
   "source": [
    "print('R squared: {}'.format(reg.score(X_test, y_test)))"
   ]
  },
  {
   "cell_type": "markdown",
   "metadata": {},
   "source": [
    "### Model 2 - Ridge Regression "
   ]
  },
  {
   "cell_type": "code",
   "execution_count": 11,
   "metadata": {},
   "outputs": [],
   "source": [
    "# Import necessary modules\n",
    "from sklearn.linear_model import Ridge\n",
    "\n",
    "# Create training and testing sets\n",
    "X_train, X_test, y_train, y_test = train_test_split(X, y, test_size = 0.3, random_state = 42)\n",
    "\n",
    "# Instantiate the regressor\n",
    "ridge = Ridge(alpha = 0.1, normalize = True)\n",
    "\n",
    "# Train the model\n",
    "ridge.fit(X_train, y_train)\n",
    "\n",
    "# Predict on the testing set\n",
    "ridge_pred = ridge.predict(X_test) "
   ]
  },
  {
   "cell_type": "markdown",
   "metadata": {},
   "source": [
    "##### Measuring the performance of the ridge regresion model"
   ]
  },
  {
   "cell_type": "code",
   "execution_count": 12,
   "metadata": {},
   "outputs": [
    {
     "name": "stdout",
     "output_type": "stream",
     "text": [
      "R squared:0.6996938275127313\n"
     ]
    }
   ],
   "source": [
    "print('R squared:{}'.format(ridge.score(X_test, y_test)))"
   ]
  },
  {
   "cell_type": "markdown",
   "metadata": {},
   "source": [
    "### Model 3 - Lasso Regression "
   ]
  },
  {
   "cell_type": "code",
   "execution_count": 13,
   "metadata": {},
   "outputs": [],
   "source": [
    "# Import necessary modules\n",
    "from sklearn.linear_model import Lasso\n",
    "\n",
    "# Create training and testing sets\n",
    "X_train, X_test, y_train, y_test = train_test_split(X, y, test_size = 0.3, random_state = 42)\n",
    "\n",
    "# Instantiate the regressor\n",
    "lasso = Lasso(alpha = 0.1, normalize = True)  \n",
    "\n",
    "# Fit the data\n",
    "lasso.fit(X_train, y_train)\n",
    "\n",
    "# Predict on the testing set\n",
    "lasso_pred = ridge.predict(X_test) "
   ]
  },
  {
   "cell_type": "markdown",
   "metadata": {},
   "source": [
    "##### Measuring the performance of the lasso regresion model"
   ]
  },
  {
   "cell_type": "code",
   "execution_count": 14,
   "metadata": {},
   "outputs": [
    {
     "name": "stdout",
     "output_type": "stream",
     "text": [
      "R squared:0.5950229535328551\n"
     ]
    }
   ],
   "source": [
    "print('R squared:{}'.format(lasso.score(X_test, y_test)))"
   ]
  },
  {
   "cell_type": "markdown",
   "metadata": {},
   "source": [
    "#### Using lasso regression for feature selection"
   ]
  },
  {
   "cell_type": "code",
   "execution_count": 15,
   "metadata": {},
   "outputs": [
    {
     "data": {
      "image/png": "[encoded data removed]",
      "text/plain": [
       "<Figure size 432x288 with 1 Axes>"
      ]
     },
     "metadata": {
      "needs_background": "light"
     },
     "output_type": "display_data"
    }
   ],
   "source": [
    "# Import necessary module\n",
    "import matplotlib.pyplot as plt   \n",
    "\n",
    "# Store the feature names in the variable: names\n",
    "names = boston.feature_names\n",
    "\n",
    "# Instantiate the regressor: lasso \n",
    "lasso = Lasso(alpha = 0.1)\n",
    "\n",
    "# Fit the regressor to the data and extract the coefficient attribute\n",
    "lasso_coef = lasso.fit(X, y).coef_\n",
    "\n",
    "# plot feature selection\n",
    "plt.plot(range(len(names)), lasso_coef)\n",
    "plt.xticks(range(len(names)), names, rotation = 60)\n",
    "plt.ylabel('Coefficients')\n",
    "plt.show()"
   ]
  },
  {
   "cell_type": "markdown",
   "metadata": {},
   "source": [
    "From the plot we see that the most important feature/predictor for our target variable (i.e. median value of owner-occupied homes/1000($)) is average number of rooms per dwelling (RM)."
   ]
  },
  {
   "cell_type": "code",
   "execution_count": null,
   "metadata": {},
   "outputs": [],
   "source": []
  }
 ],
 "metadata": {
  "kernelspec": {
   "display_name": "Python 3",
   "language": "python",
   "name": "python3"
  },
  "language_info": {
   "codemirror_mode": {
    "name": "ipython",
    "version": 3
   },
   "file_extension": ".py",
   "mimetype": "text/x-python",
   "name": "python",
   "nbconvert_exporter": "python",
   "pygments_lexer": "ipython3",
   "version": "3.7.6"
  }
 },
 "nbformat": 4,
 "nbformat_minor": 4
}
