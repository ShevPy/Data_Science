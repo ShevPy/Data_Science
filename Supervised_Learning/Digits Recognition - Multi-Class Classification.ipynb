{
 "cells": [
  {
   "cell_type": "markdown",
   "metadata": {},
   "source": [
    "### Project Overview\n",
    "\n",
    "\n",
    "*Project goal*: this project aims to identify and predict a set of hand-written digits by mapping them onto numeric ones. To do so, it employs two supervised learning models, namely, K-Nearest Neighbors and Logistic Regression. \n",
    "\n",
    "*Relevant information*: the data set contains images of hand-written digits: 10 classes where each class refers to a digit. It is a subset of a larger set available from NIST. The digits have been size-normalized and centered in a fixed-size image.\n",
    "\n",
    "*Tools and packages used*: \n",
    "- Python\n",
    "- Pandas\n",
    "- Matplotlib\n",
    "- Sklearn\n",
    "- Jupyter Notebook\n",
    "\n",
    "*Data (source)*: Scikit-learn library\n",
    "\n",
    "*Keyword(s)*: K-Nearest Neighbors, Logistic Regression, Data Scaling.   "
   ]
  },
  {
   "cell_type": "markdown",
   "metadata": {},
   "source": [
    "### Exploratory Data Analysis"
   ]
  },
  {
   "cell_type": "code",
   "execution_count": 1,
   "metadata": {},
   "outputs": [
    {
     "name": "stdout",
     "output_type": "stream",
     "text": [
      "Properties of the dataset: ['DESCR', 'data', 'images', 'target', 'target_names']\n",
      "\n",
      "Number of observations: 1797, number of features: 64\n"
     ]
    }
   ],
   "source": [
    "# Import necessary modules\n",
    "from sklearn.datasets import load_digits\n",
    "from sklearn.model_selection import train_test_split\n",
    "from sklearn.neighbors import KNeighborsClassifier\n",
    "from sklearn.metrics import classification_report, confusion_matrix\n",
    "from sklearn.preprocessing import scale\n",
    "from sklearn.linear_model import LogisticRegression \n",
    "import matplotlib.pyplot as plt\n",
    "%matplotlib inline\n",
    "\n",
    "# Load the digits dataset: digits\n",
    "digits = load_digits()\n",
    "\n",
    "# Print all keys and/ properties\n",
    "print('Properties of the dataset: {}\\n'.format(dir(digits)))\n",
    "\n",
    "# Print the shape of the data key\n",
    "n_sample, n_feature = digits.data.shape\n",
    "print(f'Number of observations: {n_sample}, number of features: {n_feature}')"
   ]
  },
  {
   "cell_type": "code",
   "execution_count": 2,
   "metadata": {},
   "outputs": [
    {
     "data": {
      "text/plain": [
       "array([ 0.,  0.,  7., 15., 13.,  1.,  0.,  0.,  0.,  8., 13.,  6., 15.,\n",
       "        4.,  0.,  0.,  0.,  2.,  1., 13., 13.,  0.,  0.,  0.,  0.,  0.,\n",
       "        2., 15., 11.,  1.,  0.,  0.,  0.,  0.,  0.,  1., 12., 12.,  1.,\n",
       "        0.,  0.,  0.,  0.,  0.,  1., 10.,  8.,  0.,  0.,  0.,  8.,  4.,\n",
       "        5., 14.,  9.,  0.,  0.,  0.,  7., 13., 13.,  9.,  0.,  0.])"
      ]
     },
     "execution_count": 2,
     "metadata": {},
     "output_type": "execute_result"
    }
   ],
   "source": [
    "# Print the 4th sample of the numeric data \n",
    "digits.data[3]"
   ]
  },
  {
   "cell_type": "markdown",
   "metadata": {},
   "source": [
    "The above array is an 8 x 8 image, in numeric format, represented by a 1D array. "
   ]
  },
  {
   "cell_type": "code",
   "execution_count": 3,
   "metadata": {},
   "outputs": [
    {
     "name": "stdout",
     "output_type": "stream",
     "text": [
      "This subset of the target variable reveals that this is a multiclass classification problem with ten possible outcomes:\n",
      "\n",
      "[0 1 2 3 4 5 6 7 8 9]\n"
     ]
    }
   ],
   "source": [
    "# Print the target variable\n",
    "print('This subset of the target variable reveals that this is a multiclass classification problem with ten possible outcomes:\\n')\n",
    "print(digits.target[0:10])"
   ]
  },
  {
   "cell_type": "markdown",
   "metadata": {},
   "source": [
    "##### Image Identification"
   ]
  },
  {
   "cell_type": "code",
   "execution_count": 4,
   "metadata": {},
   "outputs": [
    {
     "name": "stdout",
     "output_type": "stream",
     "text": [
      "\n",
      "First three images contained in the data set:\n"
     ]
    },
    {
     "data": {
      "image/png": "[encoded data removed]",
      "text/plain": [
       "<Figure size 432x288 with 1 Axes>"
      ]
     },
     "metadata": {
      "needs_background": "light"
     },
     "output_type": "display_data"
    },
    {
     "data": {
      "image/png": "[encoded data removed]",
      "text/plain": [
       "<Figure size 432x288 with 1 Axes>"
      ]
     },
     "metadata": {
      "needs_background": "light"
     },
     "output_type": "display_data"
    },
    {
     "data": {
      "image/png": "[encoded data removed]",
      "text/plain": [
       "<Figure size 432x288 with 1 Axes>"
      ]
     },
     "metadata": {
      "needs_background": "light"
     },
     "output_type": "display_data"
    }
   ],
   "source": [
    "# Visualize some of the images\n",
    "print('\\nFirst three images contained in the data set:')\n",
    "for i in range(3):\n",
    "    plt.imshow(digits.images[i], cmap=plt.cm.gray_r, interpolation='nearest')\n",
    "    plt.show()"
   ]
  },
  {
   "cell_type": "code",
   "execution_count": 5,
   "metadata": {},
   "outputs": [
    {
     "name": "stdout",
     "output_type": "stream",
     "text": [
      "The first three digits which correspond to the images above are: [0 1 2]\n"
     ]
    }
   ],
   "source": [
    "# Identify first 3 digits \n",
    "print(f'The first three digits which correspond to the images above are: {digits.target[0:3]}')"
   ]
  },
  {
   "cell_type": "markdown",
   "metadata": {},
   "source": [
    "### Model Building\n",
    "\n",
    "##### Model 1 - K Neighbors Classifier"
   ]
  },
  {
   "cell_type": "code",
   "execution_count": 6,
   "metadata": {},
   "outputs": [],
   "source": [
    "# Split the data into training and test sets\n",
    "X_train, X_test, y_train, y_test = train_test_split(digits.data, digits.target, test_size = 0.2, random_state=42, stratify=digits.target)\n",
    "\n",
    "# Create a k-NN classifier with 7 neighbors: knn          \n",
    "knn = KNeighborsClassifier(n_neighbors = 7)     \n",
    "\n",
    "# Fit the classifier to the training data\n",
    "knn.fit(X_train, y_train)\n",
    "\n",
    "# Predict on the testing set\n",
    "y_pred = knn.predict(X_test)"
   ]
  },
  {
   "cell_type": "markdown",
   "metadata": {},
   "source": [
    "##### Evaluating model performance"
   ]
  },
  {
   "cell_type": "code",
   "execution_count": 7,
   "metadata": {},
   "outputs": [
    {
     "name": "stdout",
     "output_type": "stream",
     "text": [
      "\n",
      "K-NN Model Score: 0.9833\n",
      "\n",
      "              precision    recall  f1-score   support\n",
      "\n",
      "           0       1.00      1.00      1.00        36\n",
      "           1       0.95      1.00      0.97        36\n",
      "           2       1.00      1.00      1.00        35\n",
      "           3       1.00      1.00      1.00        37\n",
      "           4       0.97      1.00      0.99        36\n",
      "           5       1.00      1.00      1.00        37\n",
      "           6       1.00      0.97      0.99        36\n",
      "           7       0.97      1.00      0.99        36\n",
      "           8       0.94      0.91      0.93        35\n",
      "           9       1.00      0.94      0.97        36\n",
      "\n",
      "    accuracy                           0.98       360\n",
      "   macro avg       0.98      0.98      0.98       360\n",
      "weighted avg       0.98      0.98      0.98       360\n",
      "\n"
     ]
    }
   ],
   "source": [
    "# Check the performance of the model\n",
    "print(f'\\nK-NN Model Score: {knn.score(X_test, y_test):.4f}\\n')\n",
    "print(classification_report(y_test, y_pred))"
   ]
  },
  {
   "cell_type": "markdown",
   "metadata": {},
   "source": [
    "With a 98% accuracy, the model performed quite well. "
   ]
  },
  {
   "cell_type": "markdown",
   "metadata": {},
   "source": [
    "###### Creating some predictions - K-NN Classifier"
   ]
  },
  {
   "cell_type": "code",
   "execution_count": 8,
   "metadata": {},
   "outputs": [
    {
     "data": {
      "image/png": "[encoded data removed]",
      "text/plain": [
       "<Figure size 432x288 with 2 Axes>"
      ]
     },
     "metadata": {
      "needs_background": "light"
     },
     "output_type": "display_data"
    }
   ],
   "source": [
    "# Pick two random image samples\n",
    "plt.subplot(1,2,1)\n",
    "plt.imshow(digits.images[97], cmap = plt.cm.gray_r, interpolation = 'nearest')\n",
    "plt.subplot(1,2,2)\n",
    "plt.imshow(digits.images[345], cmap = plt.cm.gray_r, interpolation = 'nearest')\n",
    "plt.show()"
   ]
  },
  {
   "cell_type": "code",
   "execution_count": 9,
   "metadata": {},
   "outputs": [
    {
     "name": "stdout",
     "output_type": "stream",
     "text": [
      "The digits displayed above are: 4 and 3 respectively.\n"
     ]
    }
   ],
   "source": [
    "# Identify the digits displayed above\n",
    "print(f\"The digits displayed above are: {digits.target[97]} and {digits.target[345]} respectively.\")"
   ]
  },
  {
   "cell_type": "code",
   "execution_count": 10,
   "metadata": {},
   "outputs": [
    {
     "name": "stdout",
     "output_type": "stream",
     "text": [
      "Based on the K-NN model, samples 97 and 345 correspond to the numbers: [4] and [3] respectively.\n"
     ]
    }
   ],
   "source": [
    "# Using the model to predict samples 97 and 345\n",
    "print(f'Based on the K-NN model, samples 97 and 345 correspond to the numbers: {knn.predict(digits.data[[97]])} and {knn.predict(digits.data[[345]])} respectively.')"
   ]
  },
  {
   "cell_type": "markdown",
   "metadata": {},
   "source": [
    "##### Model 2 - Logistic Regression (with feature scaling)"
   ]
  },
  {
   "cell_type": "code",
   "execution_count": 11,
   "metadata": {},
   "outputs": [],
   "source": [
    "# scale the training data \n",
    "Xs = scale(digits.data)\n",
    "\n",
    "# Split the data into training and test sets\n",
    "Xs_train, Xs_test, y_train, y_test = train_test_split(Xs, digits.target, test_size = 0.2, random_state=42, stratify=digits.target)\n",
    "\n",
    "# Instantiate the logisitc classifier: logreg\n",
    "logreg = LogisticRegression()\n",
    "\n",
    "# Fit the model\n",
    "logreg.fit(Xs_train, y_train)\n",
    "\n",
    "# Predict on the test set\n",
    "y_pred = logreg.predict(Xs_test)"
   ]
  },
  {
   "cell_type": "markdown",
   "metadata": {},
   "source": [
    "##### Evaluating model performance"
   ]
  },
  {
   "cell_type": "code",
   "execution_count": 12,
   "metadata": {},
   "outputs": [
    {
     "name": "stdout",
     "output_type": "stream",
     "text": [
      "Scaled Logistic Regression Score: 0.9722\n",
      "\n",
      "\n",
      "              precision    recall  f1-score   support\n",
      "\n",
      "           0       1.00      1.00      1.00        36\n",
      "           1       0.91      0.89      0.90        36\n",
      "           2       1.00      1.00      1.00        35\n",
      "           3       0.97      1.00      0.99        37\n",
      "           4       0.95      1.00      0.97        36\n",
      "           5       1.00      1.00      1.00        37\n",
      "           6       1.00      0.97      0.99        36\n",
      "           7       1.00      0.97      0.99        36\n",
      "           8       0.89      0.91      0.90        35\n",
      "           9       1.00      0.97      0.99        36\n",
      "\n",
      "    accuracy                           0.97       360\n",
      "   macro avg       0.97      0.97      0.97       360\n",
      "weighted avg       0.97      0.97      0.97       360\n",
      "\n"
     ]
    }
   ],
   "source": [
    "# Check the performance of the model\n",
    "print(f'Scaled Logistic Regression Score: {logreg.score(Xs_test, y_test):.4f}\\n\\n')\n",
    "print(classification_report(y_test, y_pred))"
   ]
  },
  {
   "cell_type": "markdown",
   "metadata": {},
   "source": [
    "###### Making some predictions - Logistic Regression Classifier"
   ]
  },
  {
   "cell_type": "code",
   "execution_count": 13,
   "metadata": {},
   "outputs": [
    {
     "data": {
      "image/png": "[encoded data removed]",
      "text/plain": [
       "<Figure size 432x288 with 2 Axes>"
      ]
     },
     "metadata": {
      "needs_background": "light"
     },
     "output_type": "display_data"
    }
   ],
   "source": [
    "# Pick two random image samples\n",
    "plt.subplot(1,2,1)\n",
    "plt.imshow(digits.images[551], cmap = plt.cm.gray_r, interpolation = 'nearest')\n",
    "plt.subplot(1,2,2)\n",
    "plt.imshow(digits.images[1783], cmap = plt.cm.gray_r, interpolation = 'nearest')\n",
    "plt.show()"
   ]
  },
  {
   "cell_type": "code",
   "execution_count": 14,
   "metadata": {},
   "outputs": [
    {
     "name": "stdout",
     "output_type": "stream",
     "text": [
      "The digits displayed above are: 5 and 2 respectively.\n"
     ]
    }
   ],
   "source": [
    "# Identify the numbers displayed above\n",
    "print(f\"The digits displayed above are: {digits.target[551]} and {digits.target[1783]} respectively.\")"
   ]
  },
  {
   "cell_type": "code",
   "execution_count": 15,
   "metadata": {},
   "outputs": [
    {
     "name": "stdout",
     "output_type": "stream",
     "text": [
      "Based on the Logistic Regression model, samples 551 and 1783 correspond to numbers: [9] and [2] respectively.\n"
     ]
    }
   ],
   "source": [
    "# Using the model to predict the digits display\n",
    "print(f'Based on the Logistic Regression model, samples 551 and 1783 correspond to numbers: {logreg.predict(digits.data[[551]])} and {logreg.predict(digits.data[[1783]])} respectively.')"
   ]
  },
  {
   "cell_type": "code",
   "execution_count": null,
   "metadata": {},
   "outputs": [],
   "source": []
  }
 ],
 "metadata": {
  "kernelspec": {
   "display_name": "Python 3",
   "language": "python",
   "name": "python3"
  },
  "language_info": {
   "codemirror_mode": {
    "name": "ipython",
    "version": 3
   },
   "file_extension": ".py",
   "mimetype": "text/x-python",
   "name": "python",
   "nbconvert_exporter": "python",
   "pygments_lexer": "ipython3",
   "version": "3.7.6"
  }
 },
 "nbformat": 4,
 "nbformat_minor": 4
}
